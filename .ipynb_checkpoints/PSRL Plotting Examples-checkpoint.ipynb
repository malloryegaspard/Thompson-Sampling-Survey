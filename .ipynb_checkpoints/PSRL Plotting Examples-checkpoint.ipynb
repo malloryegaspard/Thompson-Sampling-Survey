{
 "cells": [
  {
   "cell_type": "markdown",
   "metadata": {},
   "source": [
    "# PSRL Plotting Examples"
   ]
  },
  {
   "cell_type": "markdown",
   "metadata": {},
   "source": [
    "Jupyter Notebook for plotting PSRL experiment results. All experimental data is produced by code published in the TabulaRL repository (Ian Osband, 2017)."
   ]
  },
  {
   "cell_type": "code",
   "execution_count": 1,
   "metadata": {},
   "outputs": [],
   "source": [
    "import numpy as np\n",
    "import matplotlib.style as style\n",
    "import matplotlib as mpl\n",
    "import matplotlib.pyplot as plt\n",
    "import math\n",
    "from mpl_toolkits.mplot3d import Axes3D\n",
    "from scipy.interpolate import griddata\n",
    "from matplotlib import cm\n",
    "import csv"
   ]
  },
  {
   "cell_type": "code",
   "execution_count": 2,
   "metadata": {},
   "outputs": [],
   "source": [
    "##NOTE: This command produces plots in separate windows. \n",
    "##If you'd like to view the plots in-line, comment out the line below.\n",
    "%matplotlib qt"
   ]
  },
  {
   "cell_type": "markdown",
   "metadata": {},
   "source": [
    "## Data Processing:"
   ]
  },
  {
   "cell_type": "code",
   "execution_count": 4,
   "metadata": {},
   "outputs": [],
   "source": [
    "mpl.rcParams['font.size'] = 18\n",
    "\n",
    "episodes = []\n",
    "epRewardPSRL = []\n",
    "cumRewardPSRL = []\n",
    "cumRegretPSRL = []\n",
    "empRegretPSRL = []\n",
    "\n",
    "epRewardUCRL2 = []\n",
    "cumRewardUCRL2 = []\n",
    "cumRegretUCRL2 = []\n",
    "empRegretUCRL2 = []\n",
    "\n",
    "with open('chainLen_len=010_alg=PSRL_scal=1.00_seed=1.csv') as f:\n",
    "#with open('psrl_1e6ep.csv') as f:\n",
    "    #reader = csv.DictReader(f)\n",
    "    reader = csv.reader(f)\n",
    "    next(reader)\n",
    "    for row in reader:\n",
    "        rowArray = np.array(row) #covert row to numpy array\n",
    "        floatRow = rowArray.astype(float) #change strings to floats\n",
    "        epiNum = floatRow[0]\n",
    "        epR = floatRow[1]\n",
    "        cumR = floatRow[2]\n",
    "        cumReg = floatRow[3]\n",
    "        empReg = floatRow[4]\n",
    "        \n",
    "        episodes.append(epiNum)\n",
    "        epRewardPSRL.append(epR)\n",
    "        cumRewardPSRL.append(cumR)\n",
    "        cumRegretPSRL.append(cumReg)\n",
    "        empRegretPSRL.append(empReg)\n",
    "\n",
    "with open('chainLen_len=010_alg=UCRL2_scal=1.00_seed=1.csv') as g:\n",
    "#with open('ucrl2_1e6ep.csv') as g:\n",
    "    #reader = csv.DictReader(f)\n",
    "    reader = csv.reader(g)\n",
    "    next(reader)\n",
    "    for row in reader:\n",
    "        rowArray = np.array(row) #covert row to numpy array\n",
    "        floatRow = rowArray.astype(float) #change strings to floats\n",
    "        epiNum = floatRow[0]\n",
    "        epR = floatRow[1]\n",
    "        cumR = floatRow[2]\n",
    "        cumReg = floatRow[3]\n",
    "        empReg = floatRow[4]\n",
    "        \n",
    "        #episodes.append(epiNum)\n",
    "        epRewardUCRL2.append(epR)\n",
    "        cumRewardUCRL2.append(cumR)\n",
    "        cumRegretUCRL2.append(cumReg)\n",
    "        empRegretUCRL2.append(empReg)\n"
   ]
  },
  {
   "cell_type": "markdown",
   "metadata": {},
   "source": [
    "## Cumulative Regret Plotting:"
   ]
  },
  {
   "cell_type": "code",
   "execution_count": 14,
   "metadata": {},
   "outputs": [
    {
     "data": {
      "text/plain": [
       "<matplotlib.legend.Legend at 0x7fd8aecc2df0>"
      ]
     },
     "execution_count": 14,
     "metadata": {},
     "output_type": "execute_result"
    }
   ],
   "source": [
    "maxNumEp = max(episodes)\n",
    "\n",
    "fig = plt.figure(1)\n",
    "ax = plt.subplot()\n",
    "#ax = fig.add_subplot(projection='3d')\n",
    "#title = ax.set_title(label='Cumulative Regret, %.0e episodes' %maxNumEp, fontdict = {'fontsize':24},loc='center')\n",
    "title = ax.set_title(label='N = 10', fontdict = {'fontsize':24},loc='center')\n",
    "#cumulativeRegretPlot = ax.scatter(episodes, cumRegret, linewidth=1)\n",
    "psrlPlot = ax.plot(episodes, cumRegretPSRL, linewidth=2, label = 'PSRL')\n",
    "ucrl2Plot = ax.plot(episodes, cumRegretUCRL2, linewidth = 2, label = 'UCRL2')\n",
    "plt.xlabel(\"Episodes\")\n",
    "plt.ylabel(\"Cumulative Regret\")\n",
    "plt.legend(loc='upper left', prop={'size': 8})"
   ]
  },
  {
   "cell_type": "code",
   "execution_count": null,
   "metadata": {},
   "outputs": [],
   "source": []
  }
 ],
 "metadata": {
  "kernelspec": {
   "display_name": "Python 3",
   "language": "python",
   "name": "python3"
  },
  "language_info": {
   "codemirror_mode": {
    "name": "ipython",
    "version": 3
   },
   "file_extension": ".py",
   "mimetype": "text/x-python",
   "name": "python",
   "nbconvert_exporter": "python",
   "pygments_lexer": "ipython3",
   "version": "3.8.5"
  }
 },
 "nbformat": 4,
 "nbformat_minor": 4
}
